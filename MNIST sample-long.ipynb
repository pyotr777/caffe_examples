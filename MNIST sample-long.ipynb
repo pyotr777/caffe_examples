{
 "cells": [
  {
   "cell_type": "markdown",
   "metadata": {},
   "source": [
    "# MNIST in Caffe\n",
    "\n",
    "### Use model from https://elitedatascience.com/keras-tutorial-deep-learning-in-python"
   ]
  },
  {
   "cell_type": "code",
   "execution_count": 1,
   "metadata": {
    "collapsed": true
   },
   "outputs": [],
   "source": [
    "# set up Python environment: numpy for numerical routines, and matplotlib for plotting\n",
    "import numpy as np\n",
    "import matplotlib.pyplot as plt\n",
    "\n",
    "# display plots in this notebook\n",
    "%matplotlib inline\n",
    "\n",
    "# set display defaults\n",
    "plt.rcParams['figure.figsize'] = (5, 5)        # large images\n",
    "plt.rcParams['image.interpolation'] = 'nearest'  # don't interpolate: show square pixels\n",
    "plt.rcParams['image.cmap'] = 'gray'  # use grayscale output rather than a (potentially misleading) color heatmap"
   ]
  },
  {
   "cell_type": "code",
   "execution_count": 2,
   "metadata": {
    "collapsed": true
   },
   "outputs": [],
   "source": [
    "# The caffe module needs to be on the Python path;\n",
    "#  we'll add it here explicitly.\n",
    "import sys\n",
    "caffe_root = '../'  # this file should be run from {caffe_root}/examples (otherwise change this line)\n",
    "sys.path.insert(0, caffe_root + 'python')\n",
    "\n",
    "import caffe\n",
    "# If you get \"No module named _caffe\", either you have not built pycaffe or you have the wrong path."
   ]
  },
  {
   "cell_type": "code",
   "execution_count": 3,
   "metadata": {},
   "outputs": [
    {
     "name": "stdout",
     "output_type": "stream",
     "text": [
      "Downloading...\n",
      "Creating lmdb...\n",
      "I0628 01:34:27.971473  2495 db_lmdb.cpp:35] Opened lmdb examples/mnist/mnist_train_lmdb\n",
      "I0628 01:34:27.972055  2495 convert_mnist_data.cpp:88] A total of 60000 items.\n",
      "I0628 01:34:27.972118  2495 convert_mnist_data.cpp:89] Rows: 28 Cols: 28\n",
      "I0628 01:34:30.753105  2495 convert_mnist_data.cpp:108] Processed 60000 files.\n",
      "I0628 01:34:31.620498  2497 db_lmdb.cpp:35] Opened lmdb examples/mnist/mnist_test_lmdb\n",
      "I0628 01:34:31.621121  2497 convert_mnist_data.cpp:88] A total of 10000 items.\n",
      "I0628 01:34:31.621160  2497 convert_mnist_data.cpp:89] Rows: 28 Cols: 28\n",
      "I0628 01:34:32.059216  2497 convert_mnist_data.cpp:108] Processed 10000 files.\n",
      "Done.\n"
     ]
    }
   ],
   "source": [
    "# run scripts from caffe root\n",
    "import os\n",
    "os.chdir(caffe_root)\n",
    "# Download data\n",
    "!data/mnist/get_mnist.sh\n",
    "# Prepare data\n",
    "!examples/mnist/create_mnist.sh\n",
    "# back to examples\n",
    "os.chdir('examples')"
   ]
  },
  {
   "cell_type": "code",
   "execution_count": 4,
   "metadata": {},
   "outputs": [
    {
     "name": "stdout",
     "output_type": "stream",
     "text": [
      "/home/nvidia/caffe/examples\r\n"
     ]
    }
   ],
   "source": [
    "! pwd"
   ]
  },
  {
   "cell_type": "code",
   "execution_count": 6,
   "metadata": {
    "collapsed": true
   },
   "outputs": [],
   "source": [
    "from pylab import *"
   ]
  },
  {
   "cell_type": "code",
   "execution_count": 7,
   "metadata": {
    "collapsed": true
   },
   "outputs": [],
   "source": [
    "caffe.set_mode_gpu()\n",
    "### load the solver and create train and test nets\n",
    "solver = None  \n",
    "solver = caffe.AdamSolver('mnist/transfer_cnn_mnist_solver.prototxt')"
   ]
  },
  {
   "cell_type": "code",
   "execution_count": 9,
   "metadata": {},
   "outputs": [
    {
     "data": {
      "text/plain": [
       "[('data', (50, 1, 28, 28)),\n",
       " ('label', (50,)),\n",
       " ('label_mnist_1_split_0', (50,)),\n",
       " ('label_mnist_1_split_1', (50,)),\n",
       " ('conv1', (50, 32, 26, 26)),\n",
       " ('relu1', (50, 32, 26, 26)),\n",
       " ('conv2', (50, 32, 24, 24)),\n",
       " ('relu2', (50, 32, 24, 24)),\n",
       " ('pool', (50, 32, 12, 12)),\n",
       " ('dropout_1', (50, 32, 12, 12)),\n",
       " ('flatten', (50, 4608)),\n",
       " ('dense_1', (50, 500)),\n",
       " ('relu3', (50, 500)),\n",
       " ('dropout_2', (50, 500)),\n",
       " ('dense_2', (50, 10)),\n",
       " ('dense_2_dense_2_0_split_0', (50, 10)),\n",
       " ('dense_2_dense_2_0_split_1', (50, 10)),\n",
       " ('accuracy', ()),\n",
       " ('loss', ())]"
      ]
     },
     "execution_count": 9,
     "metadata": {},
     "output_type": "execute_result"
    }
   ],
   "source": [
    "# each output is (batch size, feature dim, spatial dim)\n",
    "[(k, v.data.shape) for k, v in solver.net.blobs.items()]"
   ]
  },
  {
   "cell_type": "code",
   "execution_count": 10,
   "metadata": {},
   "outputs": [
    {
     "data": {
      "text/plain": [
       "[('conv1', (32, 1, 3, 3)),\n",
       " ('conv2', (32, 32, 3, 3)),\n",
       " ('dense_1', (500, 4608)),\n",
       " ('dense_2', (10, 500))]"
      ]
     },
     "execution_count": 10,
     "metadata": {},
     "output_type": "execute_result"
    }
   ],
   "source": [
    "# just print the weight sizes (we'll omit the biases)\n",
    "[(k, v[0].data.shape) for k, v in solver.net.params.items()]"
   ]
  },
  {
   "cell_type": "code",
   "execution_count": 11,
   "metadata": {},
   "outputs": [
    {
     "data": {
      "text/plain": [
       "{'accuracy': array(0.07000000029802322, dtype=float32),\n",
       " 'loss': array(81.22299194335938, dtype=float32)}"
      ]
     },
     "execution_count": 11,
     "metadata": {},
     "output_type": "execute_result"
    }
   ],
   "source": [
    "solver.net.forward()  # train net\n",
    "solver.test_nets[0].forward()  # test net (there can be more than one)"
   ]
  },
  {
   "cell_type": "code",
   "execution_count": 12,
   "metadata": {},
   "outputs": [
    {
     "name": "stdout",
     "output_type": "stream",
     "text": [
      "train labels: [ 5.  0.  4.  1.  9.  2.  1.  3.]\n"
     ]
    },
    {
     "data": {
      "image/png": "[encoded data removed]",
      "text/plain": [
       "<matplotlib.figure.Figure at 0x7f7dc522d0>"
      ]
     },
     "metadata": {},
     "output_type": "display_data"
    }
   ],
   "source": [
    "# we use a little trick to tile the first eight images\n",
    "plt.imshow(solver.net.blobs['data'].data[:8, 0].transpose(1, 0, 2).reshape(28, 8*28), cmap='gray')\n",
    "plt.axis('off')\n",
    "print 'train labels:', solver.net.blobs['label'].data[:8]"
   ]
  },
  {
   "cell_type": "code",
   "execution_count": 13,
   "metadata": {},
   "outputs": [
    {
     "name": "stdout",
     "output_type": "stream",
     "text": [
      "test labels: [ 7.  2.  1.  0.  4.  1.  4.  9.]\n"
     ]
    },
    {
     "data": {
      "image/png": "[encoded data removed]",
      "text/plain": [
       "<matplotlib.figure.Figure at 0x7f767d20d0>"
      ]
     },
     "metadata": {},
     "output_type": "display_data"
    }
   ],
   "source": [
    "plt.imshow(solver.test_nets[0].blobs['data'].data[:8, 0].transpose(1, 0, 2).reshape(28, 8*28), cmap='gray')\n",
    "plt.axis('off')\n",
    "print 'test labels:', solver.test_nets[0].blobs['label'].data[:8]"
   ]
  },
  {
   "cell_type": "code",
   "execution_count": 14,
   "metadata": {
    "collapsed": true
   },
   "outputs": [],
   "source": [
    "solver.step(1)"
   ]
  },
  {
   "cell_type": "code",
   "execution_count": 15,
   "metadata": {
    "scrolled": true
   },
   "outputs": [
    {
     "name": "stdout",
     "output_type": "stream",
     "text": [
      "data\n"
     ]
    },
    {
     "data": {
      "image/png": "[encoded data removed]",
      "text/plain": [
       "<matplotlib.figure.Figure at 0x7f7bb19dd0>"
      ]
     },
     "metadata": {},
     "output_type": "display_data"
    },
    {
     "name": "stdout",
     "output_type": "stream",
     "text": [
      "diff\n"
     ]
    },
    {
     "data": {
      "image/png": "[encoded data removed]",
      "text/plain": [
       "<matplotlib.figure.Figure at 0x7f69f2fb10>"
      ]
     },
     "metadata": {},
     "output_type": "display_data"
    }
   ],
   "source": [
    "#print solver.net.params['conv1'][0].data.shape\n",
    "#print solver.net.params['conv1'][0].diff.shape\n",
    "\n",
    "fig = plt.figure()\n",
    "print \"data\"\n",
    "for i in range(0,32):\n",
    "    data = solver.net.params['conv1'][0].data[i,0]\n",
    "    a=fig.add_subplot(4,8,i+1)    \n",
    "    plt.imshow(data, cmap='gray')\n",
    "    plt.axis('off')\n",
    "    #a.set_title(i+1)\n",
    "\n",
    "plt.show()\n",
    "fig.savefig('weights-step1.png')\n",
    "fig = plt.figure()\n",
    "print \"diff\"\n",
    "for i in range(0,32):\n",
    "    data = solver.net.params['conv1'][0].diff[i,0]\n",
    "    a=fig.add_subplot(4,8,i+1)    \n",
    "    plt.imshow(data, cmap='gray')\n",
    "    plt.axis('off')\n",
    "    #a.set_title(i+1)\n",
    "    \n",
    "plt.show()    \n",
    "fig.savefig('w-deltas-step1.png')\n"
   ]
  },
  {
   "cell_type": "code",
   "execution_count": 22,
   "metadata": {
    "collapsed": true
   },
   "outputs": [],
   "source": [
    "caffe.set_mode_gpu()\n",
    "### load the solver and create train and test nets\n",
    "solver = None  # ignore this workaround for lmdb data (can't instantiate two solvers on the same data)\n",
    "#solver = caffe.AdamSolver('mnist/transfer_cnn_mnist_solver.prototxt')\n",
    "solver = caffe.AdamSolver('mnist/transfer_cnn_mnist_solver.prototxt')"
   ]
  },
  {
   "cell_type": "code",
   "execution_count": 23,
   "metadata": {},
   "outputs": [
    {
     "name": "stdout",
     "output_type": "stream",
     "text": [
      "Test acc: 0.124000000246 Loss: 76.428094635\n",
      "Test acc: 0.856600000262 Loss: 11.9408595479\n",
      "Test acc: 0.772800002098 Loss: 14.9147194576\n",
      "Test acc: 0.0961000002548 Loss: 2.80770438433\n",
      "Test acc: 0.114599999785 Loss: 2.40915092468\n",
      "Test acc: 0.114499999471 Loss: 2.3519495821\n",
      "Test acc: 0.114199999608 Loss: 2.33092683554\n",
      "Test acc: 0.114199999534 Loss: 2.32236907721\n",
      "Test acc: 0.114099999554 Loss: 2.32031453371\n",
      "Test acc: 0.10339999998 Loss: 2.31639430285\n",
      "Test acc: 0.101300000139 Loss: 2.3145284605\n",
      "Test acc: 0.101300000139 Loss: 2.31464834929\n"
     ]
    }
   ],
   "source": [
    "#%%time\n",
    "niter = 1200\n",
    "test_interval = 100\n",
    "text_inter = 100\n",
    "# losses will also be stored in the log\n",
    "train_loss = zeros(niter)\n",
    "train_acc = zeros(niter)\n",
    "test_loss = zeros(niter // test_interval)\n",
    "test_acc = zeros(niter // test_interval)\n",
    "output = zeros((niter, 8, 10))\n",
    "\n",
    "# the main solver loop\n",
    "for it in range(niter):\n",
    "    solver.step(1)  \n",
    "    \n",
    "    # store the train loss\n",
    "    train_loss[it] = solver.net.blobs['loss'].data\n",
    "    train_acc[it] = solver.net.blobs['accuracy'].data\n",
    "    # store the output on the first test batch\n",
    "    # (start the forward pass at conv1 to avoid loading new data)\n",
    "    solver.test_nets[0].forward(start='conv1')\n",
    "    output[it] = solver.test_nets[0].blobs['dense_2'].data[:8]\n",
    "    \n",
    "    # run a full test every so often\n",
    "    # (Caffe can also do this for us and write to a log, but we show here\n",
    "    #  how to do it directly in Python, where more complicated things are easier.)\n",
    "    if it % test_interval == 0:\n",
    "        #print 'Iteration', it, 'testing...'\n",
    "        acc_ = 0\n",
    "        loss_ = 0\n",
    "        for test_it in range(text_inter):\n",
    "            solver.test_nets[0].forward()\n",
    "            acc_ += solver.test_nets[0].blobs['accuracy'].data\n",
    "            loss_ += solver.test_nets[0].blobs['loss'].data\n",
    "        test_acc[it // test_interval] = acc_ / text_inter\n",
    "        test_loss[it // test_interval] = loss_ / text_inter\n",
    "        #print \"Round \", it, test_interval, it // test_interval\n",
    "        print \"Test acc:\", test_acc[it // test_interval],\"Loss:\", test_loss[it // test_interval]\n",
    "      "
   ]
  },
  {
   "cell_type": "code",
   "execution_count": 28,
   "metadata": {},
   "outputs": [
    {
     "data": {
      "image/png": "[encoded data removed]",
      "text/plain": [
       "<matplotlib.figure.Figure at 0x7f68273c10>"
      ]
     },
     "metadata": {},
     "output_type": "display_data"
    }
   ],
   "source": [
    "def plot_loss_accuracy(train_loss, test_loss, train_acc, test_acc, filename) :\n",
    "    _, ax1 = subplots()\n",
    "    ax2 = ax1.twinx()\n",
    "    ax1.plot(arange(niter), train_loss, 'r-',label= \"loss_train\",alpha=0.3)\n",
    "    ax1.plot(test_interval * arange(len(test_acc)), test_loss, 'r.',label= \"loss_test\")\n",
    "    ax2.plot(arange(niter), train_acc, 'b-',label= \"acc_train\",alpha=0.7)\n",
    "    ax2.plot(test_interval * arange(len(test_acc)), test_acc, 'b.',label= \"acc_test\")\n",
    "    #ax1.set_ylim([0,9])\n",
    "    ax1.set_xlabel('iteration')\n",
    "    ax1.set_ylabel('train loss')\n",
    "    ax2.set_ylabel('test accuracy')\n",
    "\n",
    "    ax2.set_ylim([0,1])\n",
    "    ax1.legend(loc='upper left')\n",
    "    ax2.legend(loc='upper right')\n",
    "    plt.savefig(filename)\n",
    "    \n",
    "plot_loss_accuracy(train_loss, test_loss, train_acc, test_acc, \"AccLoss.png\")    "
   ]
  },
  {
   "cell_type": "code",
   "execution_count": 216,
   "metadata": {
    "collapsed": true
   },
   "outputs": [],
   "source": [
    "# Reset solver\n",
    "caffe.set_mode_gpu()\n",
    "### load the solver and create train and test nets\n",
    "solver = None  # ignore this workaround for lmdb data (can't instantiate two solvers on the same data)\n",
    "#solver = caffe.AdamSolver('mnist/transfer_cnn_mnist_solver.prototxt')\n",
    "solver = caffe.SGDSolver('mnist/transfer_cnn_mnist_solver.prototxt')"
   ]
  },
  {
   "cell_type": "code",
   "execution_count": 217,
   "metadata": {
    "scrolled": true
   },
   "outputs": [
    {
     "name": "stdout",
     "output_type": "stream",
     "text": [
      "Test acc: 0.14 Check: 0.15000000596 Loss: 82.0963439941\n",
      "Test acc: 0.11 Check: 0.119999997318 Loss: 2.29541873932\n",
      "Test acc: 0.11 Check: 0.140000000596 Loss: 2.30103468895\n",
      "Test acc: 0.11 Check: 0.119999997318 Loss: 2.29891872406\n",
      "Test acc: 0.11 Check: 0.140000000596 Loss: 2.30302739143\n",
      "Test acc: 0.11 Check: 0.119999997318 Loss: 2.29741430283\n",
      "Test acc: 0.11 Check: 0.140000000596 Loss: 2.30490636826\n",
      "Test acc: 0.11 Check: 0.119999997318 Loss: 2.30084586143\n",
      "Test acc: 0.11 Check: 0.140000000596 Loss: 2.30100011826\n",
      "Test acc: 0.11 Check: 0.119999997318 Loss: 2.30669736862\n",
      "Test acc: 0.11 Check: 0.140000000596 Loss: 2.30700469017\n",
      "Test acc: 0.11 Check: 0.119999997318 Loss: 2.29547357559\n",
      "CPU times: user 1min 2s, sys: 19.1 s, total: 1min 21s\n",
      "Wall time: 1min 9s\n"
     ]
    }
   ],
   "source": [
    "%%time\n",
    "niter = 1200\n",
    "test_interval = 100\n",
    "test_iter = 50\n",
    "# losses will also be stored in the log\n",
    "train_loss = zeros(niter)\n",
    "test_acc = zeros(niter // test_interval +1)\n",
    "check_acc = zeros(niter // test_interval +1)\n",
    "output = zeros((niter, 8, 10))\n",
    "\n",
    "# the main solver loop\n",
    "for it in range(niter):\n",
    "    solver.step(1)  # SGD by Caffe\n",
    "    \n",
    "    # store the train loss\n",
    "    train_loss[it] = solver.net.blobs['loss'].data\n",
    "    \n",
    "    # store the output on the first test batch\n",
    "    # (start the forward pass at conv1 to avoid loading new data)\n",
    "    solver.test_nets[0].forward(start='conv1')\n",
    "    output[it] = solver.test_nets[0].blobs['dense_2'].data[:8]\n",
    "    \n",
    "    # run a full test every so often\n",
    "    # (Caffe can also do this for us and write to a log, but we show here\n",
    "    #  how to do it directly in Python, where more complicated things are easier.)\n",
    "    if it % test_interval == 0:\n",
    "        #print 'Iteration', it, 'testing...'\n",
    "        correct = 0\n",
    "        for test_it in range(test_iter):\n",
    "            solver.test_nets[0].forward()\n",
    "            correct += sum(solver.test_nets[0].blobs['dense_2'].data.argmax(1)\n",
    "                           == solver.test_nets[0].blobs['label'].data)\n",
    "        test_acc[it // test_interval] = correct / test_iter /100.\n",
    "        check_acc[it // test_interval] = solver.test_nets[0].blobs['accuracy'].data\n",
    "        #print \"Round \", it, test_interval, it // test_interval\n",
    "        print \"Test acc:\", test_acc[it // test_interval], \"Check:\",check_acc[it // test_interval], \"Loss:\", train_loss[it]\n",
    "        "
   ]
  },
  {
   "cell_type": "code",
   "execution_count": 218,
   "metadata": {},
   "outputs": [
    {
     "data": {
      "image/png": "[encoded data removed]",
      "text/plain": [
       "<matplotlib.figure.Figure at 0x7f36f08d10>"
      ]
     },
     "metadata": {},
     "output_type": "display_data"
    }
   ],
   "source": [
    "_, ax1 = subplots()\n",
    "ax2 = ax1.twinx()\n",
    "ax1.plot(arange(niter), train_loss, 'r-', label= \"loss\")\n",
    "ax2.plot(test_interval * arange(len(test_acc)), test_acc, 'b', label=\"acc\")\n",
    "ax2.plot(test_interval * arange(len(test_acc)), check_acc, 'b.', label=\"check_acc\")\n",
    "#ax1.set_ylim([0,9])\n",
    "ax1.set_xlabel('iteration')\n",
    "ax1.set_ylabel('train loss')\n",
    "ax2.set_ylabel('test accuracy')\n",
    "ax2.set_title('Test Accuracy: {:.2f}'.format(test_acc[-1]))\n",
    "ax2.set_ylim([0,1])\n",
    "ax1.legend(loc='upper left')\n",
    "ax2.legend(loc='upper center')\n",
    "plt.savefig(\"AccLoss1.png\")"
   ]
  },
  {
   "cell_type": "code",
   "execution_count": 136,
   "metadata": {},
   "outputs": [
    {
     "name": "stdout",
     "output_type": "stream",
     "text": [
      "60000\n",
      "10000\n"
     ]
    }
   ],
   "source": [
    "import caffe\n",
    "import lmdb\n",
    "import PIL.Image\n",
    "from StringIO import StringIO\n",
    "import numpy as np\n",
    "\n",
    "lmdb_dir = 'mnist/mnist_train_lmdb/'\n",
    "\n",
    "cursor = lmdb.open(lmdb_dir, readonly=True).begin().cursor()\n",
    "#datum = caffe.proto.caffe_pb2.Datum()\n",
    "\n",
    "i = 0\n",
    "for key, value in cursor:\n",
    "#    datum.ParseFromString(value)\n",
    "#    label = datum.label\n",
    "#    data = caffe.io.datum_to_array(datum)\n",
    "    #print label\n",
    "    #imshow(data.reshape(28,28))\n",
    "    #plt.axis('off')\n",
    "    #plt.show()\n",
    "    i = i+1\n",
    "    #if i > 5:\n",
    "    #    break\n",
    "        \n",
    "print i\n",
    "\n",
    "lmdb_dir = 'mnist/mnist_test_lmdb/'\n",
    "\n",
    "cursor = lmdb.open(lmdb_dir, readonly=True).begin().cursor()\n",
    "#datum = caffe.proto.caffe_pb2.Datum()\n",
    "\n",
    "i = 0\n",
    "for key, value in cursor:\n",
    "#    datum.ParseFromString(value)\n",
    "#    label = datum.label\n",
    "#    data = caffe.io.datum_to_array(datum)\n",
    "    #print label\n",
    "    #imshow(data.reshape(28,28))\n",
    "    #plt.axis('off')\n",
    "    #plt.show()\n",
    "    i = i+1\n",
    "    #if i > 5:\n",
    "    #    break\n",
    "        \n",
    "print i"
   ]
  },
  {
   "cell_type": "code",
   "execution_count": 165,
   "metadata": {},
   "outputs": [
    {
     "name": "stdout",
     "output_type": "stream",
     "text": [
      "(100, 10)\n",
      "0.109999999404\n"
     ]
    }
   ],
   "source": [
    "print solver.test_nets[0].blobs['dense_2'].data.shape\n",
    "print solver.test_nets[0].blobs['accuracy'].data\n"
   ]
  },
  {
   "cell_type": "code",
   "execution_count": 158,
   "metadata": {},
   "outputs": [
    {
     "name": "stdout",
     "output_type": "stream",
     "text": [
      "[ 8.  9.  0.  1.  2.  3.  4.  5.  6.  7.  8.  0.  1.  2.  3.  4.  7.  8.\n",
      "  9.  7.  8.  6.  4.  1.  9.  3.  8.  4.  4.  7.  0.  1.  9.  2.  8.  7.\n",
      "  8.  2.  6.  0.  6.  5.  3.  3.  3.  9.  1.  4.  0.  6.  1.  0.  0.  6.\n",
      "  2.  1.  1.  7.  7.  8.  4.  6.  0.  7.  0.  3.  6.  8.  7.  1.  5.  2.\n",
      "  4.  9.  4.  3.  6.  4.  1.  7.  2.  6.  5.  0.  1.  2.  3.  4.  5.  6.\n",
      "  7.  8.  9.  0.  1.  2.  3.  4.  5.  6.]\n"
     ]
    }
   ],
   "source": [
    "print solver.test_nets[0].blobs['label'].data\n"
   ]
  },
  {
   "cell_type": "code",
   "execution_count": 163,
   "metadata": {},
   "outputs": [
    {
     "name": "stdout",
     "output_type": "stream",
     "text": [
      "0.11\n"
     ]
    }
   ],
   "source": [
    "print(sum(solver.test_nets[0].blobs['dense_2'].data.argmax(1)\n",
    "                           == solver.test_nets[0].blobs['label'].data) / 100.)"
   ]
  },
  {
   "cell_type": "code",
   "execution_count": null,
   "metadata": {
    "collapsed": true
   },
   "outputs": [],
   "source": []
  }
 ],
 "metadata": {
  "kernelspec": {
   "display_name": "Python 2",
   "language": "python",
   "name": "python2"
  },
  "language_info": {
   "codemirror_mode": {
    "name": "ipython",
    "version": 2
   },
   "file_extension": ".py",
   "mimetype": "text/x-python",
   "name": "python",
   "nbconvert_exporter": "python",
   "pygments_lexer": "ipython2",
   "version": "2.7.12"
  }
 },
 "nbformat": 4,
 "nbformat_minor": 2
}
